{
 "cells": [
  {
   "cell_type": "code",
   "execution_count": 5,
   "id": "4fbe9847-df20-4ad0-9f2b-c99bf906ccf2",
   "metadata": {},
   "outputs": [
    {
     "name": "stdout",
     "output_type": "stream",
     "text": [
      "Overwriting simpleserver.py\n"
     ]
    }
   ],
   "source": [
    "%%writefile simpleserver.py\n",
    "# we will add on some new tools and will create a new server for that\n",
    "\n",
    "from mcp.server.fastmcp import FastMCP\n",
    "\n",
    "\n",
    "mcp = FastMCP('Simple_Server')\n",
    "\n",
    "@mcp.tool()\n",
    "def add(a: int, b: int):\n",
    "    ''' Adds two numbers\n",
    "    Args: \n",
    "    a: First Argument\n",
    "    b: Second Argument\n",
    "\n",
    "    Return: sum of the numbers\n",
    "    '''\n",
    "    return a+b\n",
    "\n",
    "@mcp.tool()\n",
    "def multiply(a: int, b: int):\n",
    "    ''' Multiplies two numbers\n",
    "    Args: \n",
    "    a: First Argument\n",
    "    b: Second Argument\n",
    "\n",
    "    Return: sum of the numbers\n",
    "    '''\n",
    "    return a*b\n",
    "\n",
    "\n",
    "if __name__ == '__main__':\n",
    "    mcp.run(transport='stdio')"
   ]
  }
 ],
 "metadata": {
  "kernelspec": {
   "display_name": "MCP_Project",
   "language": "python",
   "name": "my_conda_env"
  },
  "language_info": {
   "codemirror_mode": {
    "name": "ipython",
    "version": 3
   },
   "file_extension": ".py",
   "mimetype": "text/x-python",
   "name": "python",
   "nbconvert_exporter": "python",
   "pygments_lexer": "ipython3",
   "version": "3.11.13"
  }
 },
 "nbformat": 4,
 "nbformat_minor": 5
}
