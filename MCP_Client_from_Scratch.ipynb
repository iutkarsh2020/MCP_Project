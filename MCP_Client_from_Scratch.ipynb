{
 "cells": [
  {
   "cell_type": "code",
   "execution_count": 1,
   "id": "6ae6dc97-ea95-4b43-b0ea-b3239daa5478",
   "metadata": {},
   "outputs": [],
   "source": [
    "from mcp import ClientSession, StdioServerParameters, types\n",
    "from mcp.client.stdio import stdio_client\n",
    "\n",
    "# Create server parameters for stdio connection\n",
    "# Telling out client how to start the server\n",
    "server_params = StdioServerParameters(\n",
    "    command='uv',\n",
    "    args= ['run', 'simple_server.py'],\n",
    "    env = None\n",
    ")\n",
    "\n",
    "# Client's job is to query tools, take those tools to an llm\n",
    "async def run():\n",
    "    # Launching the server as a subprocess\n",
    "    # read is the stream that client will use to read msgs from the server\n",
    "    # write is the stream that client will use to write to the server\n",
    "    async with stdio_client(server_params) as (read, write):\n",
    "        async with ClientSession(read, write) as session:\n",
    "            await session.initialize()\n",
    "\n",
    "            tools = await session.list_tools()            \n",
    "            # send this to an llm here\n",
    "\n",
    "            result = await session.call_tool('tool_name', arguments = {})\n",
    "    "
   ]
  }
 ],
 "metadata": {
  "kernelspec": {
   "display_name": "MCP_Project",
   "language": "python",
   "name": "my_conda_env"
  },
  "language_info": {
   "codemirror_mode": {
    "name": "ipython",
    "version": 3
   },
   "file_extension": ".py",
   "mimetype": "text/x-python",
   "name": "python",
   "nbconvert_exporter": "python",
   "pygments_lexer": "ipython3",
   "version": "3.11.13"
  }
 },
 "nbformat": 4,
 "nbformat_minor": 5
}
